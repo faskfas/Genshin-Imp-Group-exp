{
 "cells": [
  {
   "cell_type": "markdown",
   "id": "76fd1b27",
   "metadata": {},
   "source": [
    "读取数据"
   ]
  },
  {
   "cell_type": "code",
   "execution_count": 3,
   "id": "80691438",
   "metadata": {},
   "outputs": [
    {
     "data": {
      "text/html": [
       "<div>\n",
       "<style scoped>\n",
       "    .dataframe tbody tr th:only-of-type {\n",
       "        vertical-align: middle;\n",
       "    }\n",
       "\n",
       "    .dataframe tbody tr th {\n",
       "        vertical-align: top;\n",
       "    }\n",
       "\n",
       "    .dataframe thead th {\n",
       "        text-align: right;\n",
       "    }\n",
       "</style>\n",
       "<table border=\"1\" class=\"dataframe\">\n",
       "  <thead>\n",
       "    <tr style=\"text-align: right;\">\n",
       "      <th></th>\n",
       "      <th>#</th>\n",
       "      <th>Name</th>\n",
       "      <th>Type 1</th>\n",
       "      <th>Type 2</th>\n",
       "      <th>Total</th>\n",
       "      <th>HP</th>\n",
       "      <th>Attack</th>\n",
       "      <th>Defense</th>\n",
       "      <th>Sp. Atk</th>\n",
       "      <th>Sp. Def</th>\n",
       "      <th>Speed</th>\n",
       "      <th>Generation</th>\n",
       "      <th>Legendary</th>\n",
       "    </tr>\n",
       "  </thead>\n",
       "  <tbody>\n",
       "    <tr>\n",
       "      <th>0</th>\n",
       "      <td>1</td>\n",
       "      <td>Bulbasaur</td>\n",
       "      <td>Grass</td>\n",
       "      <td>Poison</td>\n",
       "      <td>318</td>\n",
       "      <td>45</td>\n",
       "      <td>49</td>\n",
       "      <td>49</td>\n",
       "      <td>65</td>\n",
       "      <td>65</td>\n",
       "      <td>45</td>\n",
       "      <td>1</td>\n",
       "      <td>FALSE</td>\n",
       "    </tr>\n",
       "    <tr>\n",
       "      <th>1</th>\n",
       "      <td>2</td>\n",
       "      <td>Ivysaur</td>\n",
       "      <td>Grass</td>\n",
       "      <td>Poison</td>\n",
       "      <td>405</td>\n",
       "      <td>60</td>\n",
       "      <td>62</td>\n",
       "      <td>63</td>\n",
       "      <td>80</td>\n",
       "      <td>80</td>\n",
       "      <td>60</td>\n",
       "      <td>1</td>\n",
       "      <td>FALSE</td>\n",
       "    </tr>\n",
       "    <tr>\n",
       "      <th>2</th>\n",
       "      <td>3</td>\n",
       "      <td>Venusaur</td>\n",
       "      <td>Grass</td>\n",
       "      <td>Poison</td>\n",
       "      <td>525</td>\n",
       "      <td>80</td>\n",
       "      <td>82</td>\n",
       "      <td>83</td>\n",
       "      <td>100</td>\n",
       "      <td>100</td>\n",
       "      <td>80</td>\n",
       "      <td>1</td>\n",
       "      <td>FALSE</td>\n",
       "    </tr>\n",
       "    <tr>\n",
       "      <th>3</th>\n",
       "      <td>3</td>\n",
       "      <td>VenusaurMega Venusaur</td>\n",
       "      <td>Grass</td>\n",
       "      <td>Poison</td>\n",
       "      <td>625</td>\n",
       "      <td>80</td>\n",
       "      <td>100</td>\n",
       "      <td>123</td>\n",
       "      <td>122</td>\n",
       "      <td>120</td>\n",
       "      <td>80</td>\n",
       "      <td>1</td>\n",
       "      <td>FALSE</td>\n",
       "    </tr>\n",
       "    <tr>\n",
       "      <th>4</th>\n",
       "      <td>4</td>\n",
       "      <td>Charmander</td>\n",
       "      <td>Fire</td>\n",
       "      <td>NaN</td>\n",
       "      <td>309</td>\n",
       "      <td>39</td>\n",
       "      <td>52</td>\n",
       "      <td>43</td>\n",
       "      <td>60</td>\n",
       "      <td>50</td>\n",
       "      <td>65</td>\n",
       "      <td>1</td>\n",
       "      <td>FALSE</td>\n",
       "    </tr>\n",
       "    <tr>\n",
       "      <th>...</th>\n",
       "      <td>...</td>\n",
       "      <td>...</td>\n",
       "      <td>...</td>\n",
       "      <td>...</td>\n",
       "      <td>...</td>\n",
       "      <td>...</td>\n",
       "      <td>...</td>\n",
       "      <td>...</td>\n",
       "      <td>...</td>\n",
       "      <td>...</td>\n",
       "      <td>...</td>\n",
       "      <td>...</td>\n",
       "      <td>...</td>\n",
       "    </tr>\n",
       "    <tr>\n",
       "      <th>805</th>\n",
       "      <td>721</td>\n",
       "      <td>Volcanion</td>\n",
       "      <td>Fire</td>\n",
       "      <td>Water</td>\n",
       "      <td>600</td>\n",
       "      <td>80</td>\n",
       "      <td>110</td>\n",
       "      <td>120</td>\n",
       "      <td>130</td>\n",
       "      <td>90</td>\n",
       "      <td>70</td>\n",
       "      <td>6</td>\n",
       "      <td>TRUE</td>\n",
       "    </tr>\n",
       "    <tr>\n",
       "      <th>806</th>\n",
       "      <td>undefined</td>\n",
       "      <td>undefined</td>\n",
       "      <td>undefined</td>\n",
       "      <td>undefined</td>\n",
       "      <td>undefined</td>\n",
       "      <td>undefined</td>\n",
       "      <td>undefined</td>\n",
       "      <td>undefined</td>\n",
       "      <td>undefined</td>\n",
       "      <td>undefined</td>\n",
       "      <td>undefined</td>\n",
       "      <td>undefined</td>\n",
       "      <td>undefined</td>\n",
       "    </tr>\n",
       "    <tr>\n",
       "      <th>807</th>\n",
       "      <td>undefined</td>\n",
       "      <td>undefined</td>\n",
       "      <td>undefined</td>\n",
       "      <td>undefined</td>\n",
       "      <td>undefined</td>\n",
       "      <td>undefined</td>\n",
       "      <td>undefined</td>\n",
       "      <td>undefined</td>\n",
       "      <td>undefined</td>\n",
       "      <td>undefined</td>\n",
       "      <td>undefined</td>\n",
       "      <td>undefined</td>\n",
       "      <td>undefined</td>\n",
       "    </tr>\n",
       "    <tr>\n",
       "      <th>808</th>\n",
       "      <td>NaN</td>\n",
       "      <td>NaN</td>\n",
       "      <td>NaN</td>\n",
       "      <td>NaN</td>\n",
       "      <td>NaN</td>\n",
       "      <td>NaN</td>\n",
       "      <td>NaN</td>\n",
       "      <td>NaN</td>\n",
       "      <td>NaN</td>\n",
       "      <td>NaN</td>\n",
       "      <td>NaN</td>\n",
       "      <td>NaN</td>\n",
       "      <td></td>\n",
       "    </tr>\n",
       "    <tr>\n",
       "      <th>809</th>\n",
       "      <td>NaN</td>\n",
       "      <td>NaN</td>\n",
       "      <td>NaN</td>\n",
       "      <td>NaN</td>\n",
       "      <td>NaN</td>\n",
       "      <td>NaN</td>\n",
       "      <td>NaN</td>\n",
       "      <td>NaN</td>\n",
       "      <td>NaN</td>\n",
       "      <td>NaN</td>\n",
       "      <td>NaN</td>\n",
       "      <td>NaN</td>\n",
       "      <td></td>\n",
       "    </tr>\n",
       "  </tbody>\n",
       "</table>\n",
       "<p>810 rows × 13 columns</p>\n",
       "</div>"
      ],
      "text/plain": [
       "             #                   Name     Type 1     Type 2      Total  \\\n",
       "0            1              Bulbasaur      Grass     Poison        318   \n",
       "1            2                Ivysaur      Grass     Poison        405   \n",
       "2            3               Venusaur      Grass     Poison        525   \n",
       "3            3  VenusaurMega Venusaur      Grass     Poison        625   \n",
       "4            4             Charmander       Fire        NaN        309   \n",
       "..         ...                    ...        ...        ...        ...   \n",
       "805        721              Volcanion       Fire      Water        600   \n",
       "806  undefined              undefined  undefined  undefined  undefined   \n",
       "807  undefined              undefined  undefined  undefined  undefined   \n",
       "808        NaN                    NaN        NaN        NaN        NaN   \n",
       "809        NaN                    NaN        NaN        NaN        NaN   \n",
       "\n",
       "            HP     Attack    Defense    Sp. Atk    Sp. Def      Speed  \\\n",
       "0           45         49         49         65         65         45   \n",
       "1           60         62         63         80         80         60   \n",
       "2           80         82         83        100        100         80   \n",
       "3           80        100        123        122        120         80   \n",
       "4           39         52         43         60         50         65   \n",
       "..         ...        ...        ...        ...        ...        ...   \n",
       "805         80        110        120        130         90         70   \n",
       "806  undefined  undefined  undefined  undefined  undefined  undefined   \n",
       "807  undefined  undefined  undefined  undefined  undefined  undefined   \n",
       "808        NaN        NaN        NaN        NaN        NaN        NaN   \n",
       "809        NaN        NaN        NaN        NaN        NaN        NaN   \n",
       "\n",
       "    Generation  Legendary  \n",
       "0            1      FALSE  \n",
       "1            1      FALSE  \n",
       "2            1      FALSE  \n",
       "3            1      FALSE  \n",
       "4            1      FALSE  \n",
       "..         ...        ...  \n",
       "805          6       TRUE  \n",
       "806  undefined  undefined  \n",
       "807  undefined  undefined  \n",
       "808        NaN             \n",
       "809        NaN             \n",
       "\n",
       "[810 rows x 13 columns]"
      ]
     },
     "execution_count": 3,
     "metadata": {},
     "output_type": "execute_result"
    }
   ],
   "source": [
    "import pandas as pd\n",
    "import numpy as np\n",
    "\n",
    "\n",
    "df = pd.read_csv('Pokemon.csv', encoding='gbk')\n",
    "df"
   ]
  },
  {
   "cell_type": "markdown",
   "id": "b4e68b95",
   "metadata": {},
   "source": [
    "最后两行（实际读取有四行）数据无意义，可直接删去"
   ]
  },
  {
   "cell_type": "code",
   "execution_count": 4,
   "id": "7db84e7d",
   "metadata": {},
   "outputs": [
    {
     "name": "stdout",
     "output_type": "stream",
     "text": [
      "删除前形状:(810, 13)\n",
      "删除后形状:(806, 13)\n"
     ]
    }
   ],
   "source": [
    "print(f'删除前形状:{df.shape}')\n",
    "df = df.iloc[:-4]\n",
    "print(f'删除后形状:{df.shape}')"
   ]
  },
  {
   "cell_type": "markdown",
   "id": "e402d08a",
   "metadata": {},
   "source": [
    "type2存在异常的数值取值，可清空"
   ]
  },
  {
   "cell_type": "code",
   "execution_count": 5,
   "id": "65451543",
   "metadata": {},
   "outputs": [
    {
     "data": {
      "text/plain": [
       "<Axes: xlabel='Type 2'>"
      ]
     },
     "execution_count": 5,
     "metadata": {},
     "output_type": "execute_result"
    },
    {
     "data": {
      "image/png": "[encoded data removed]",
      "text/plain": [
       "<Figure size 640x480 with 1 Axes>"
      ]
     },
     "metadata": {},
     "output_type": "display_data"
    }
   ],
   "source": [
    "df['Type 2'].value_counts().plot(kind='bar')"
   ]
  },
  {
   "cell_type": "code",
   "execution_count": 6,
   "id": "a376fa13",
   "metadata": {},
   "outputs": [
    {
     "name": "stderr",
     "output_type": "stream",
     "text": [
      "C:\\Users\\28248\\AppData\\Local\\Temp\\ipykernel_25408\\2874943582.py:2: SettingWithCopyWarning: \n",
      "A value is trying to be set on a copy of a slice from a DataFrame\n",
      "\n",
      "See the caveats in the documentation: https://pandas.pydata.org/pandas-docs/stable/user_guide/indexing.html#returning-a-view-versus-a-copy\n",
      "  df.loc[df['Type 2'].isin([273, 0, '273', '0']), 'Type 2'] = np.nan\n"
     ]
    },
    {
     "data": {
      "text/plain": [
       "<Axes: xlabel='Type 2'>"
      ]
     },
     "execution_count": 6,
     "metadata": {},
     "output_type": "execute_result"
    },
    {
     "data": {
      "image/png": "[encoded data removed]",
      "text/plain": [
       "<Figure size 640x480 with 1 Axes>"
      ]
     },
     "metadata": {},
     "output_type": "display_data"
    }
   ],
   "source": [
    "# 删除异常值273和0\n",
    "df.loc[df['Type 2'].isin([273, 0, '273', '0']), 'Type 2'] = np.nan\n",
    "df['Type 2'].value_counts().plot(kind='bar')"
   ]
  },
  {
   "cell_type": "markdown",
   "id": "cd477b04",
   "metadata": {},
   "source": [
    "数据集中存在重复值"
   ]
  },
  {
   "cell_type": "code",
   "execution_count": 7,
   "id": "e86afeaa",
   "metadata": {},
   "outputs": [
    {
     "name": "stdout",
     "output_type": "stream",
     "text": [
      "重复行数:5\n",
      "清除后的重复行数:0\n"
     ]
    }
   ],
   "source": [
    "duplicate_count = df.duplicated().sum()\n",
    "print(f'重复行数:{duplicate_count}')\n",
    "df = df.drop_duplicates()\n",
    "\n",
    "print(f'清除后的重复行数:{df.duplicated().sum()}')"
   ]
  },
  {
   "cell_type": "markdown",
   "id": "0d5c8b8a",
   "metadata": {},
   "source": [
    "Attack属性存在过高的异常值"
   ]
  },
  {
   "cell_type": "code",
   "execution_count": 8,
   "id": "6cb47690",
   "metadata": {},
   "outputs": [
    {
     "data": {
      "text/plain": [
       "<matplotlib.collections.PathCollection at 0x24ba48b1bb0>"
      ]
     },
     "execution_count": 8,
     "metadata": {},
     "output_type": "execute_result"
    },
    {
     "data": {
      "image/png": "[encoded data removed]",
      "text/plain": [
       "<Figure size 640x480 with 1 Axes>"
      ]
     },
     "metadata": {},
     "output_type": "display_data"
    }
   ],
   "source": [
    "import matplotlib.pyplot as plt\n",
    "\n",
    "\n",
    "y_attack = df.iloc[:, 6].dropna().to_numpy()\n",
    "y_attack_series = pd.to_numeric(y_attack, errors='coerce')\n",
    "y_attack = y_attack_series\n",
    "\n",
    "plt.scatter(range(0, y_attack.shape[0]), y_attack)"
   ]
  },
  {
   "cell_type": "code",
   "execution_count": 9,
   "id": "10677fc0",
   "metadata": {},
   "outputs": [
    {
     "data": {
      "text/plain": [
       "<matplotlib.collections.PathCollection at 0x24ba4bc3af0>"
      ]
     },
     "execution_count": 9,
     "metadata": {},
     "output_type": "execute_result"
    },
    {
     "data": {
      "image/png": "[encoded data removed]",
      "text/plain": [
       "<Figure size 640x480 with 1 Axes>"
      ]
     },
     "metadata": {},
     "output_type": "display_data"
    }
   ],
   "source": [
    "# 把那两个离群值去掉\n",
    "df['Attack'] = pd.to_numeric(df['Attack'], errors='coerce')\n",
    "df.loc[df['Attack'] > 800, 'Attack'] = np.nan\n",
    "\n",
    "y_attack = df.iloc[:, 6].dropna().to_numpy()\n",
    "y_attack_series = pd.to_numeric(y_attack, errors='coerce')\n",
    "y_attack = y_attack_series\n",
    "\n",
    "plt.scatter(range(0, y_attack.shape[0]), y_attack)"
   ]
  },
  {
   "cell_type": "markdown",
   "id": "cbca0c95",
   "metadata": {},
   "source": [
    "有两条数据(实际好像不止)的Generation与Legendary属性被置换"
   ]
  },
  {
   "cell_type": "code",
   "execution_count": 10,
   "id": "7d25db1e",
   "metadata": {},
   "outputs": [],
   "source": [
    "# undefined去除\n",
    "df['Generation'] = df['Generation'].astype(str).replace('undefined', np.nan)\n",
    "\n",
    "# 生成掩码\n",
    "target_mask = df['Generation'].astype(str).str.strip().str.lower().isin(['true', 'false'])\n",
    "target_rows = df[target_mask]\n",
    "\n",
    "# 交换回来\n",
    "gen_temp = df.loc[target_mask, 'Generation'].copy()\n",
    "leg_temp = df.loc[target_mask, 'Legendary'].copy()\n",
    "df.loc[target_mask, 'Generation'] = leg_temp\n",
    "df.loc[target_mask, 'Legendary'] = gen_temp"
   ]
  },
  {
   "cell_type": "code",
   "execution_count": 11,
   "id": "f7af97aa",
   "metadata": {},
   "outputs": [
    {
     "data": {
      "text/plain": [
       "0"
      ]
     },
     "execution_count": 11,
     "metadata": {},
     "output_type": "execute_result"
    }
   ],
   "source": [
    "target_mask_af = df['Generation'].astype(str).str.strip().str.lower().isin(['true', 'false'])\n",
    "target_rows_af = df[target_mask_af]\n",
    "len(target_rows_af)"
   ]
  },
  {
   "cell_type": "markdown",
   "id": "84840d37",
   "metadata": {},
   "source": [
    "Legendary属性有非法值，应去除"
   ]
  },
  {
   "cell_type": "code",
   "execution_count": 12,
   "id": "20e86de7",
   "metadata": {},
   "outputs": [],
   "source": [
    "legendary_str = df['Legendary'].astype(str).str.strip().str.lower()\n",
    "invalid_mask = ~legendary_str.isin(['true', 'false'])\n",
    "df.loc[invalid_mask, 'Legendary'] = np.nan"
   ]
  },
  {
   "cell_type": "code",
   "execution_count": 13,
   "id": "b33d6f66",
   "metadata": {},
   "outputs": [
    {
     "data": {
      "text/plain": [
       "0"
      ]
     },
     "execution_count": 13,
     "metadata": {},
     "output_type": "execute_result"
    }
   ],
   "source": [
    "legendary_str_af = df['Legendary'].astype(str).str.strip().str.lower()\n",
    "invalid_mask_af = ~legendary_str_af.isin(['true', 'false', 'nan'])\n",
    "len(df.loc[invalid_mask_af, 'Legendary'])"
   ]
  },
  {
   "cell_type": "markdown",
   "id": "58730bc3",
   "metadata": {},
   "source": [
    "替换所有undefined值为nan"
   ]
  },
  {
   "cell_type": "code",
   "execution_count": 14,
   "id": "d224a3d1",
   "metadata": {},
   "outputs": [
    {
     "name": "stdout",
     "output_type": "stream",
     "text": [
      "是否还有undefined：False\n"
     ]
    }
   ],
   "source": [
    "df = df.replace('undefined', np.nan)\n",
    "\n",
    "has_undefined = any('undefined' in df[col].astype(str).values for col in df.columns)\n",
    "print(f\"是否还有undefined：{has_undefined}\")  "
   ]
  },
  {
   "cell_type": "markdown",
   "id": "95b4bfef",
   "metadata": {},
   "source": [
    "Defense和Speed都有负值，需要替换成nan"
   ]
  },
  {
   "cell_type": "code",
   "execution_count": 22,
   "id": "ad37889d",
   "metadata": {},
   "outputs": [
    {
     "data": {
      "text/html": [
       "<div>\n",
       "<style scoped>\n",
       "    .dataframe tbody tr th:only-of-type {\n",
       "        vertical-align: middle;\n",
       "    }\n",
       "\n",
       "    .dataframe tbody tr th {\n",
       "        vertical-align: top;\n",
       "    }\n",
       "\n",
       "    .dataframe thead th {\n",
       "        text-align: right;\n",
       "    }\n",
       "</style>\n",
       "<table border=\"1\" class=\"dataframe\">\n",
       "  <thead>\n",
       "    <tr style=\"text-align: right;\">\n",
       "      <th></th>\n",
       "      <th>#</th>\n",
       "      <th>Name</th>\n",
       "      <th>Type 1</th>\n",
       "      <th>Type 2</th>\n",
       "      <th>Total</th>\n",
       "      <th>HP</th>\n",
       "      <th>Attack</th>\n",
       "      <th>Defense</th>\n",
       "      <th>Sp. Atk</th>\n",
       "      <th>Sp. Def</th>\n",
       "      <th>Speed</th>\n",
       "      <th>Generation</th>\n",
       "      <th>Legendary</th>\n",
       "    </tr>\n",
       "  </thead>\n",
       "  <tbody>\n",
       "    <tr>\n",
       "      <th>349</th>\n",
       "      <td>315</td>\n",
       "      <td>Roselia</td>\n",
       "      <td>Grass</td>\n",
       "      <td>Poison</td>\n",
       "      <td>400</td>\n",
       "      <td>50</td>\n",
       "      <td>60.0</td>\n",
       "      <td>-10.0</td>\n",
       "      <td>100</td>\n",
       "      <td>80</td>\n",
       "      <td>65</td>\n",
       "      <td>3</td>\n",
       "      <td>FALSE</td>\n",
       "    </tr>\n",
       "  </tbody>\n",
       "</table>\n",
       "</div>"
      ],
      "text/plain": [
       "       #     Name Type 1  Type 2 Total  HP  Attack  Defense Sp. Atk Sp. Def  \\\n",
       "349  315  Roselia  Grass  Poison   400  50    60.0    -10.0     100      80   \n",
       "\n",
       "    Speed Generation Legendary  \n",
       "349    65          3     FALSE  "
      ]
     },
     "execution_count": 22,
     "metadata": {},
     "output_type": "execute_result"
    }
   ],
   "source": [
    "df['Defense'] = pd.to_numeric(df['Defense'], errors='coerce')\n",
    "df[df['Defense'] < 0]"
   ]
  },
  {
   "cell_type": "code",
   "execution_count": 24,
   "id": "4dbead02",
   "metadata": {},
   "outputs": [
    {
     "data": {
      "text/plain": [
       "0"
      ]
     },
     "execution_count": 24,
     "metadata": {},
     "output_type": "execute_result"
    }
   ],
   "source": [
    "df['Defense'] = df['Defense'].where(df['Defense'] >= 0, np.nan)\n",
    "len(df[df['Defense'] < 0])"
   ]
  },
  {
   "cell_type": "code",
   "execution_count": 25,
   "id": "fd0f2bed",
   "metadata": {},
   "outputs": [
    {
     "data": {
      "text/html": [
       "<div>\n",
       "<style scoped>\n",
       "    .dataframe tbody tr th:only-of-type {\n",
       "        vertical-align: middle;\n",
       "    }\n",
       "\n",
       "    .dataframe tbody tr th {\n",
       "        vertical-align: top;\n",
       "    }\n",
       "\n",
       "    .dataframe thead th {\n",
       "        text-align: right;\n",
       "    }\n",
       "</style>\n",
       "<table border=\"1\" class=\"dataframe\">\n",
       "  <thead>\n",
       "    <tr style=\"text-align: right;\">\n",
       "      <th></th>\n",
       "      <th>#</th>\n",
       "      <th>Name</th>\n",
       "      <th>Type 1</th>\n",
       "      <th>Type 2</th>\n",
       "      <th>Total</th>\n",
       "      <th>HP</th>\n",
       "      <th>Attack</th>\n",
       "      <th>Defense</th>\n",
       "      <th>Sp. Atk</th>\n",
       "      <th>Sp. Def</th>\n",
       "      <th>Speed</th>\n",
       "      <th>Generation</th>\n",
       "      <th>Legendary</th>\n",
       "    </tr>\n",
       "  </thead>\n",
       "  <tbody>\n",
       "    <tr>\n",
       "      <th>620</th>\n",
       "      <td>554</td>\n",
       "      <td>Darumaka</td>\n",
       "      <td>Fire</td>\n",
       "      <td>NaN</td>\n",
       "      <td>315</td>\n",
       "      <td>70</td>\n",
       "      <td>90.0</td>\n",
       "      <td>45.0</td>\n",
       "      <td>15</td>\n",
       "      <td>45</td>\n",
       "      <td>-50.0</td>\n",
       "      <td>5</td>\n",
       "      <td>FALSE</td>\n",
       "    </tr>\n",
       "  </tbody>\n",
       "</table>\n",
       "</div>"
      ],
      "text/plain": [
       "       #      Name Type 1 Type 2 Total  HP  Attack  Defense Sp. Atk Sp. Def  \\\n",
       "620  554  Darumaka   Fire    NaN   315  70    90.0     45.0      15      45   \n",
       "\n",
       "     Speed Generation Legendary  \n",
       "620  -50.0          5     FALSE  "
      ]
     },
     "execution_count": 25,
     "metadata": {},
     "output_type": "execute_result"
    }
   ],
   "source": [
    "df['Speed'] = pd.to_numeric(df['Speed'], errors='coerce')\n",
    "df[df['Speed'] < 0]"
   ]
  },
  {
   "cell_type": "code",
   "execution_count": 26,
   "id": "be879ca8",
   "metadata": {},
   "outputs": [
    {
     "data": {
      "text/plain": [
       "0"
      ]
     },
     "execution_count": 26,
     "metadata": {},
     "output_type": "execute_result"
    }
   ],
   "source": [
    "df['Speed'] = df['Speed'].where(df['Speed'] >= 0, np.nan)\n",
    "len(df[df['Speed'] < 0])"
   ]
  }
 ],
 "metadata": {
  "kernelspec": {
   "display_name": "my_math",
   "language": "python",
   "name": "python3"
  },
  "language_info": {
   "codemirror_mode": {
    "name": "ipython",
    "version": 3
   },
   "file_extension": ".py",
   "mimetype": "text/x-python",
   "name": "python",
   "nbconvert_exporter": "python",
   "pygments_lexer": "ipython3",
   "version": "3.8.20"
  }
 },
 "nbformat": 4,
 "nbformat_minor": 5
}
