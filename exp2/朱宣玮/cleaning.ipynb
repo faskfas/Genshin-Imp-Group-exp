{
 "cells": [
  {
   "cell_type": "code",
   "execution_count": 80,
   "id": "8fea9273",
   "metadata": {},
   "outputs": [],
   "source": [
    "import pandas as pd\n",
    "import matplotlib.pyplot as plt"
   ]
  },
  {
   "cell_type": "code",
   "execution_count": 81,
   "id": "57cf2093",
   "metadata": {},
   "outputs": [
    {
     "data": {
      "text/html": [
       "<div>\n",
       "<style scoped>\n",
       "    .dataframe tbody tr th:only-of-type {\n",
       "        vertical-align: middle;\n",
       "    }\n",
       "\n",
       "    .dataframe tbody tr th {\n",
       "        vertical-align: top;\n",
       "    }\n",
       "\n",
       "    .dataframe thead th {\n",
       "        text-align: right;\n",
       "    }\n",
       "</style>\n",
       "<table border=\"1\" class=\"dataframe\">\n",
       "  <thead>\n",
       "    <tr style=\"text-align: right;\">\n",
       "      <th></th>\n",
       "      <th>#</th>\n",
       "      <th>Name</th>\n",
       "      <th>Type 1</th>\n",
       "      <th>Type 2</th>\n",
       "      <th>Total</th>\n",
       "      <th>HP</th>\n",
       "      <th>Attack</th>\n",
       "      <th>Defense</th>\n",
       "      <th>Sp. Atk</th>\n",
       "      <th>Sp. Def</th>\n",
       "      <th>Speed</th>\n",
       "      <th>Generation</th>\n",
       "      <th>Legendary</th>\n",
       "    </tr>\n",
       "  </thead>\n",
       "  <tbody>\n",
       "    <tr>\n",
       "      <th>0</th>\n",
       "      <td>1</td>\n",
       "      <td>Bulbasaur</td>\n",
       "      <td>Grass</td>\n",
       "      <td>Poison</td>\n",
       "      <td>318</td>\n",
       "      <td>45</td>\n",
       "      <td>49</td>\n",
       "      <td>49</td>\n",
       "      <td>65</td>\n",
       "      <td>65</td>\n",
       "      <td>45</td>\n",
       "      <td>1</td>\n",
       "      <td>FALSE</td>\n",
       "    </tr>\n",
       "    <tr>\n",
       "      <th>1</th>\n",
       "      <td>2</td>\n",
       "      <td>Ivysaur</td>\n",
       "      <td>Grass</td>\n",
       "      <td>Poison</td>\n",
       "      <td>405</td>\n",
       "      <td>60</td>\n",
       "      <td>62</td>\n",
       "      <td>63</td>\n",
       "      <td>80</td>\n",
       "      <td>80</td>\n",
       "      <td>60</td>\n",
       "      <td>1</td>\n",
       "      <td>FALSE</td>\n",
       "    </tr>\n",
       "    <tr>\n",
       "      <th>2</th>\n",
       "      <td>3</td>\n",
       "      <td>Venusaur</td>\n",
       "      <td>Grass</td>\n",
       "      <td>Poison</td>\n",
       "      <td>525</td>\n",
       "      <td>80</td>\n",
       "      <td>82</td>\n",
       "      <td>83</td>\n",
       "      <td>100</td>\n",
       "      <td>100</td>\n",
       "      <td>80</td>\n",
       "      <td>1</td>\n",
       "      <td>FALSE</td>\n",
       "    </tr>\n",
       "    <tr>\n",
       "      <th>3</th>\n",
       "      <td>3</td>\n",
       "      <td>VenusaurMega Venusaur</td>\n",
       "      <td>Grass</td>\n",
       "      <td>Poison</td>\n",
       "      <td>625</td>\n",
       "      <td>80</td>\n",
       "      <td>100</td>\n",
       "      <td>123</td>\n",
       "      <td>122</td>\n",
       "      <td>120</td>\n",
       "      <td>80</td>\n",
       "      <td>1</td>\n",
       "      <td>FALSE</td>\n",
       "    </tr>\n",
       "    <tr>\n",
       "      <th>4</th>\n",
       "      <td>4</td>\n",
       "      <td>Charmander</td>\n",
       "      <td>Fire</td>\n",
       "      <td>NaN</td>\n",
       "      <td>309</td>\n",
       "      <td>39</td>\n",
       "      <td>52</td>\n",
       "      <td>43</td>\n",
       "      <td>60</td>\n",
       "      <td>50</td>\n",
       "      <td>65</td>\n",
       "      <td>1</td>\n",
       "      <td>FALSE</td>\n",
       "    </tr>\n",
       "  </tbody>\n",
       "</table>\n",
       "</div>"
      ],
      "text/plain": [
       "   #                   Name Type 1  Type 2 Total  HP Attack Defense Sp. Atk  \\\n",
       "0  1              Bulbasaur  Grass  Poison   318  45     49      49      65   \n",
       "1  2                Ivysaur  Grass  Poison   405  60     62      63      80   \n",
       "2  3               Venusaur  Grass  Poison   525  80     82      83     100   \n",
       "3  3  VenusaurMega Venusaur  Grass  Poison   625  80    100     123     122   \n",
       "4  4             Charmander   Fire     NaN   309  39     52      43      60   \n",
       "\n",
       "  Sp. Def Speed Generation Legendary  \n",
       "0      65    45          1     FALSE  \n",
       "1      80    60          1     FALSE  \n",
       "2     100    80          1     FALSE  \n",
       "3     120    80          1     FALSE  \n",
       "4      50    65          1     FALSE  "
      ]
     },
     "execution_count": 81,
     "metadata": {},
     "output_type": "execute_result"
    }
   ],
   "source": [
    "df = pd.read_csv(\"Pokemon.csv\", encoding=\"latin1\")\n",
    "df.head()"
   ]
  },
  {
   "cell_type": "code",
   "execution_count": 82,
   "id": "e0fea2f4",
   "metadata": {},
   "outputs": [
    {
     "name": "stdout",
     "output_type": "stream",
     "text": [
      "<class 'pandas.core.frame.DataFrame'>\n",
      "RangeIndex: 810 entries, 0 to 809\n",
      "Data columns (total 13 columns):\n",
      " #   Column      Non-Null Count  Dtype \n",
      "---  ------      --------------  ----- \n",
      " 0   #           807 non-null    object\n",
      " 1   Name        807 non-null    object\n",
      " 2   Type 1      806 non-null    object\n",
      " 3   Type 2      424 non-null    object\n",
      " 4   Total       807 non-null    object\n",
      " 5   HP          806 non-null    object\n",
      " 6   Attack      807 non-null    object\n",
      " 7   Defense     807 non-null    object\n",
      " 8   Sp. Atk     807 non-null    object\n",
      " 9   Sp. Def     807 non-null    object\n",
      " 10  Speed       807 non-null    object\n",
      " 11  Generation  807 non-null    object\n",
      " 12  Legendary   807 non-null    object\n",
      "dtypes: object(13)\n",
      "memory usage: 82.4+ KB\n"
     ]
    }
   ],
   "source": [
    "df.info()"
   ]
  },
  {
   "cell_type": "code",
   "execution_count": 83,
   "id": "082c1787",
   "metadata": {},
   "outputs": [
    {
     "data": {
      "text/html": [
       "<div>\n",
       "<style scoped>\n",
       "    .dataframe tbody tr th:only-of-type {\n",
       "        vertical-align: middle;\n",
       "    }\n",
       "\n",
       "    .dataframe tbody tr th {\n",
       "        vertical-align: top;\n",
       "    }\n",
       "\n",
       "    .dataframe thead th {\n",
       "        text-align: right;\n",
       "    }\n",
       "</style>\n",
       "<table border=\"1\" class=\"dataframe\">\n",
       "  <thead>\n",
       "    <tr style=\"text-align: right;\">\n",
       "      <th></th>\n",
       "      <th>#</th>\n",
       "      <th>Name</th>\n",
       "      <th>Type 1</th>\n",
       "      <th>Type 2</th>\n",
       "      <th>Total</th>\n",
       "      <th>HP</th>\n",
       "      <th>Attack</th>\n",
       "      <th>Defense</th>\n",
       "      <th>Sp. Atk</th>\n",
       "      <th>Sp. Def</th>\n",
       "      <th>Speed</th>\n",
       "      <th>Generation</th>\n",
       "      <th>Legendary</th>\n",
       "    </tr>\n",
       "  </thead>\n",
       "  <tbody>\n",
       "    <tr>\n",
       "      <th>count</th>\n",
       "      <td>807</td>\n",
       "      <td>807</td>\n",
       "      <td>806</td>\n",
       "      <td>424</td>\n",
       "      <td>807</td>\n",
       "      <td>806</td>\n",
       "      <td>807</td>\n",
       "      <td>807</td>\n",
       "      <td>807</td>\n",
       "      <td>807</td>\n",
       "      <td>807</td>\n",
       "      <td>807</td>\n",
       "      <td>807</td>\n",
       "    </tr>\n",
       "    <tr>\n",
       "      <th>unique</th>\n",
       "      <td>722</td>\n",
       "      <td>801</td>\n",
       "      <td>19</td>\n",
       "      <td>23</td>\n",
       "      <td>202</td>\n",
       "      <td>97</td>\n",
       "      <td>118</td>\n",
       "      <td>106</td>\n",
       "      <td>108</td>\n",
       "      <td>94</td>\n",
       "      <td>111</td>\n",
       "      <td>8</td>\n",
       "      <td>8</td>\n",
       "    </tr>\n",
       "    <tr>\n",
       "      <th>top</th>\n",
       "      <td>479</td>\n",
       "      <td>Ariados</td>\n",
       "      <td>Water</td>\n",
       "      <td>Flying</td>\n",
       "      <td>600</td>\n",
       "      <td>60</td>\n",
       "      <td>100</td>\n",
       "      <td>70</td>\n",
       "      <td>60</td>\n",
       "      <td>80</td>\n",
       "      <td>60</td>\n",
       "      <td>1</td>\n",
       "      <td>FALSE</td>\n",
       "    </tr>\n",
       "    <tr>\n",
       "      <th>freq</th>\n",
       "      <td>6</td>\n",
       "      <td>4</td>\n",
       "      <td>112</td>\n",
       "      <td>98</td>\n",
       "      <td>37</td>\n",
       "      <td>67</td>\n",
       "      <td>39</td>\n",
       "      <td>57</td>\n",
       "      <td>53</td>\n",
       "      <td>52</td>\n",
       "      <td>44</td>\n",
       "      <td>165</td>\n",
       "      <td>732</td>\n",
       "    </tr>\n",
       "  </tbody>\n",
       "</table>\n",
       "</div>"
      ],
      "text/plain": [
       "          #     Name Type 1  Type 2 Total   HP Attack Defense Sp. Atk Sp. Def  \\\n",
       "count   807      807    806     424   807  806    807     807     807     807   \n",
       "unique  722      801     19      23   202   97    118     106     108      94   \n",
       "top     479  Ariados  Water  Flying   600   60    100      70      60      80   \n",
       "freq      6        4    112      98    37   67     39      57      53      52   \n",
       "\n",
       "       Speed Generation Legendary  \n",
       "count    807        807       807  \n",
       "unique   111          8         8  \n",
       "top       60          1     FALSE  \n",
       "freq      44        165       732  "
      ]
     },
     "execution_count": 83,
     "metadata": {},
     "output_type": "execute_result"
    }
   ],
   "source": [
    "df.describe(include=\"all\")"
   ]
  },
  {
   "cell_type": "code",
   "execution_count": 84,
   "id": "a750cd4f",
   "metadata": {},
   "outputs": [
    {
     "data": {
      "text/html": [
       "<div>\n",
       "<style scoped>\n",
       "    .dataframe tbody tr th:only-of-type {\n",
       "        vertical-align: middle;\n",
       "    }\n",
       "\n",
       "    .dataframe tbody tr th {\n",
       "        vertical-align: top;\n",
       "    }\n",
       "\n",
       "    .dataframe thead th {\n",
       "        text-align: right;\n",
       "    }\n",
       "</style>\n",
       "<table border=\"1\" class=\"dataframe\">\n",
       "  <thead>\n",
       "    <tr style=\"text-align: right;\">\n",
       "      <th></th>\n",
       "      <th>#</th>\n",
       "      <th>Name</th>\n",
       "      <th>Type 1</th>\n",
       "      <th>Type 2</th>\n",
       "      <th>Total</th>\n",
       "      <th>HP</th>\n",
       "      <th>Attack</th>\n",
       "      <th>Defense</th>\n",
       "      <th>Sp. Atk</th>\n",
       "      <th>Sp. Def</th>\n",
       "      <th>Speed</th>\n",
       "      <th>Generation</th>\n",
       "      <th>Legendary</th>\n",
       "    </tr>\n",
       "  </thead>\n",
       "  <tbody>\n",
       "    <tr>\n",
       "      <th>805</th>\n",
       "      <td>721</td>\n",
       "      <td>Volcanion</td>\n",
       "      <td>Fire</td>\n",
       "      <td>Water</td>\n",
       "      <td>600</td>\n",
       "      <td>80</td>\n",
       "      <td>110</td>\n",
       "      <td>120</td>\n",
       "      <td>130</td>\n",
       "      <td>90</td>\n",
       "      <td>70</td>\n",
       "      <td>6</td>\n",
       "      <td>TRUE</td>\n",
       "    </tr>\n",
       "    <tr>\n",
       "      <th>806</th>\n",
       "      <td>undefined</td>\n",
       "      <td>undefined</td>\n",
       "      <td>undefined</td>\n",
       "      <td>undefined</td>\n",
       "      <td>undefined</td>\n",
       "      <td>undefined</td>\n",
       "      <td>undefined</td>\n",
       "      <td>undefined</td>\n",
       "      <td>undefined</td>\n",
       "      <td>undefined</td>\n",
       "      <td>undefined</td>\n",
       "      <td>undefined</td>\n",
       "      <td>undefined</td>\n",
       "    </tr>\n",
       "    <tr>\n",
       "      <th>807</th>\n",
       "      <td>undefined</td>\n",
       "      <td>undefined</td>\n",
       "      <td>undefined</td>\n",
       "      <td>undefined</td>\n",
       "      <td>undefined</td>\n",
       "      <td>undefined</td>\n",
       "      <td>undefined</td>\n",
       "      <td>undefined</td>\n",
       "      <td>undefined</td>\n",
       "      <td>undefined</td>\n",
       "      <td>undefined</td>\n",
       "      <td>undefined</td>\n",
       "      <td>undefined</td>\n",
       "    </tr>\n",
       "    <tr>\n",
       "      <th>808</th>\n",
       "      <td>NaN</td>\n",
       "      <td>NaN</td>\n",
       "      <td>NaN</td>\n",
       "      <td>NaN</td>\n",
       "      <td>NaN</td>\n",
       "      <td>NaN</td>\n",
       "      <td>NaN</td>\n",
       "      <td>NaN</td>\n",
       "      <td>NaN</td>\n",
       "      <td>NaN</td>\n",
       "      <td>NaN</td>\n",
       "      <td>NaN</td>\n",
       "      <td></td>\n",
       "    </tr>\n",
       "    <tr>\n",
       "      <th>809</th>\n",
       "      <td>NaN</td>\n",
       "      <td>NaN</td>\n",
       "      <td>NaN</td>\n",
       "      <td>NaN</td>\n",
       "      <td>NaN</td>\n",
       "      <td>NaN</td>\n",
       "      <td>NaN</td>\n",
       "      <td>NaN</td>\n",
       "      <td>NaN</td>\n",
       "      <td>NaN</td>\n",
       "      <td>NaN</td>\n",
       "      <td>NaN</td>\n",
       "      <td></td>\n",
       "    </tr>\n",
       "  </tbody>\n",
       "</table>\n",
       "</div>"
      ],
      "text/plain": [
       "             #       Name     Type 1     Type 2      Total         HP  \\\n",
       "805        721  Volcanion       Fire      Water        600         80   \n",
       "806  undefined  undefined  undefined  undefined  undefined  undefined   \n",
       "807  undefined  undefined  undefined  undefined  undefined  undefined   \n",
       "808        NaN        NaN        NaN        NaN        NaN        NaN   \n",
       "809        NaN        NaN        NaN        NaN        NaN        NaN   \n",
       "\n",
       "        Attack    Defense    Sp. Atk    Sp. Def      Speed Generation  \\\n",
       "805        110        120        130         90         70          6   \n",
       "806  undefined  undefined  undefined  undefined  undefined  undefined   \n",
       "807  undefined  undefined  undefined  undefined  undefined  undefined   \n",
       "808        NaN        NaN        NaN        NaN        NaN        NaN   \n",
       "809        NaN        NaN        NaN        NaN        NaN        NaN   \n",
       "\n",
       "     Legendary  \n",
       "805       TRUE  \n",
       "806  undefined  \n",
       "807  undefined  \n",
       "808             \n",
       "809             "
      ]
     },
     "execution_count": 84,
     "metadata": {},
     "output_type": "execute_result"
    }
   ],
   "source": [
    "df.tail(5)"
   ]
  },
  {
   "cell_type": "code",
   "execution_count": 85,
   "id": "ac4d918e",
   "metadata": {},
   "outputs": [],
   "source": [
    "# 最后4行无意义，删除\n",
    "df = df.iloc[:-4, :] "
   ]
  },
  {
   "cell_type": "code",
   "execution_count": 86,
   "id": "f75ba6b2",
   "metadata": {},
   "outputs": [
    {
     "data": {
      "text/html": [
       "<div>\n",
       "<style scoped>\n",
       "    .dataframe tbody tr th:only-of-type {\n",
       "        vertical-align: middle;\n",
       "    }\n",
       "\n",
       "    .dataframe tbody tr th {\n",
       "        vertical-align: top;\n",
       "    }\n",
       "\n",
       "    .dataframe thead th {\n",
       "        text-align: right;\n",
       "    }\n",
       "</style>\n",
       "<table border=\"1\" class=\"dataframe\">\n",
       "  <thead>\n",
       "    <tr style=\"text-align: right;\">\n",
       "      <th></th>\n",
       "      <th>#</th>\n",
       "      <th>Name</th>\n",
       "      <th>Type 1</th>\n",
       "      <th>Type 2</th>\n",
       "      <th>Total</th>\n",
       "      <th>HP</th>\n",
       "      <th>Attack</th>\n",
       "      <th>Defense</th>\n",
       "      <th>Sp. Atk</th>\n",
       "      <th>Sp. Def</th>\n",
       "      <th>Speed</th>\n",
       "      <th>Generation</th>\n",
       "      <th>Legendary</th>\n",
       "    </tr>\n",
       "  </thead>\n",
       "  <tbody>\n",
       "    <tr>\n",
       "      <th>408</th>\n",
       "      <td>NaN</td>\n",
       "      <td>NaN</td>\n",
       "      <td>NaN</td>\n",
       "      <td>NaN</td>\n",
       "      <td>NaN</td>\n",
       "      <td>NaN</td>\n",
       "      <td>NaN</td>\n",
       "      <td>NaN</td>\n",
       "      <td>NaN</td>\n",
       "      <td>NaN</td>\n",
       "      <td>NaN</td>\n",
       "      <td>NaN</td>\n",
       "      <td>NaN</td>\n",
       "    </tr>\n",
       "  </tbody>\n",
       "</table>\n",
       "</div>"
      ],
      "text/plain": [
       "       # Name Type 1 Type 2 Total   HP Attack Defense Sp. Atk Sp. Def Speed  \\\n",
       "408  NaN  NaN    NaN    NaN   NaN  NaN    NaN     NaN     NaN     NaN   NaN   \n",
       "\n",
       "    Generation Legendary  \n",
       "408        NaN       NaN  "
      ]
     },
     "execution_count": 86,
     "metadata": {},
     "output_type": "execute_result"
    }
   ],
   "source": [
    "# 删除全是NaN的行\n",
    "df[df.isna().all(axis=1)]"
   ]
  },
  {
   "cell_type": "code",
   "execution_count": 87,
   "id": "1b3a013f",
   "metadata": {},
   "outputs": [],
   "source": [
    "df = df.dropna(how='all')"
   ]
  },
  {
   "cell_type": "code",
   "execution_count": 88,
   "id": "3660435d",
   "metadata": {},
   "outputs": [
    {
     "name": "stdout",
     "output_type": "stream",
     "text": [
      "Rows containing 'undefined':\n",
      "       #       Name    Type 1  Type 2 Total  HP Attack Defense Sp. Atk  \\\n",
      "771  695  Heliolisk  Electric  Normal   481  62     55      52     109   \n",
      "\n",
      "    Sp. Def Speed Generation Legendary  \n",
      "771      94   109  undefined     FALSE  \n"
     ]
    }
   ],
   "source": [
    "# 先枚举第4~12列的列名（假设从0开始计数）\n",
    "cols_to_check = df.columns[4:13]  # 第4列索引3，第12列索引11\n",
    "\n",
    "# 找出含有 'undefined' 的行\n",
    "undefined_rows = df[df[cols_to_check].apply(lambda row: row.str.contains('undefined', na=False)).any(axis=1)]\n",
    "print(\"Rows containing 'undefined':\")\n",
    "print(undefined_rows)\n",
    "\n",
    "# 删除这些行\n",
    "df = df.drop(index=undefined_rows.index)\n"
   ]
  },
  {
   "cell_type": "code",
   "execution_count": 89,
   "id": "b5162d91",
   "metadata": {},
   "outputs": [
    {
     "data": {
      "text/plain": [
       "<Axes: xlabel='Type 1'>"
      ]
     },
     "execution_count": 89,
     "metadata": {},
     "output_type": "execute_result"
    },
    {
     "data": {
      "image/png": "[encoded data removed]",
      "text/plain": [
       "<Figure size 640x480 with 1 Axes>"
      ]
     },
     "metadata": {},
     "output_type": "display_data"
    }
   ],
   "source": [
    "df[\"Type 1\"].value_counts().plot(kind='bar')"
   ]
  },
  {
   "cell_type": "code",
   "execution_count": 90,
   "id": "47517e8f",
   "metadata": {},
   "outputs": [
    {
     "data": {
      "text/plain": [
       "<Axes: xlabel='Type 2'>"
      ]
     },
     "execution_count": 90,
     "metadata": {},
     "output_type": "execute_result"
    },
    {
     "data": {
      "image/png": "[encoded data removed]",
      "text/plain": [
       "<Figure size 640x480 with 1 Axes>"
      ]
     },
     "metadata": {},
     "output_type": "display_data"
    }
   ],
   "source": [
    "df[\"Type 2\"].value_counts().plot(kind='bar')"
   ]
  },
  {
   "cell_type": "code",
   "execution_count": 91,
   "id": "8f9320e3",
   "metadata": {},
   "outputs": [
    {
     "name": "stdout",
     "output_type": "stream",
     "text": [
      "Invalid rows:\n",
      "       #                 Name    Type 1 Type 2 Total   HP Attack Defense  \\\n",
      "34    27            Sandshrew    Ground      0   300   50     75      85   \n",
      "39    32     Nidoranâ?Poison       NaN    273    46   57     40      40   \n",
      "117  107           Hitmonchan  Fighting      A   455   50    105      79   \n",
      "428  382  KyogrePrimal Kyogre     Water    BBB   770  100    150      90   \n",
      "\n",
      "    Sp. Atk Sp. Def Speed Generation Legendary  \n",
      "34       20      30    40          1     FALSE  \n",
      "39       40      50     1      FALSE       NaN  \n",
      "117      35     110    76          1     FALSE  \n",
      "428     180     160    90          3      TRUE  \n"
     ]
    }
   ],
   "source": [
    "# 删除异常取值所在的行\n",
    "invalid_values = ['A', '273', '0', 'BBB']\n",
    "invalid_rows = df[df[\"Type 2\"].isin(invalid_values)]\n",
    "print(\"Invalid rows:\")\n",
    "print(invalid_rows)\n",
    "\n",
    "df = df.drop(index=invalid_rows.index)"
   ]
  },
  {
   "cell_type": "code",
   "execution_count": 92,
   "id": "57bc33bf",
   "metadata": {},
   "outputs": [
    {
     "data": {
      "text/plain": [
       "Type 2\n",
       "Flying      98\n",
       "Poison      37\n",
       "Ground      35\n",
       "Psychic     33\n",
       "Fighting    26\n",
       "Grass       25\n",
       "Fairy       23\n",
       "Steel       22\n",
       "Dark        20\n",
       "Dragon      18\n",
       "Water       14\n",
       "Ghost       14\n",
       "Ice         14\n",
       "Rock        14\n",
       "Fire        12\n",
       "Electric     6\n",
       "Bug          3\n",
       "Normal       3\n",
       "Name: count, dtype: int64"
      ]
     },
     "execution_count": 92,
     "metadata": {},
     "output_type": "execute_result"
    }
   ],
   "source": [
    "df[\"Type 2\"].value_counts()"
   ]
  },
  {
   "cell_type": "code",
   "execution_count": 93,
   "id": "c0af9cd5",
   "metadata": {},
   "outputs": [
    {
     "data": {
      "text/html": [
       "<div>\n",
       "<style scoped>\n",
       "    .dataframe tbody tr th:only-of-type {\n",
       "        vertical-align: middle;\n",
       "    }\n",
       "\n",
       "    .dataframe tbody tr th {\n",
       "        vertical-align: top;\n",
       "    }\n",
       "\n",
       "    .dataframe thead th {\n",
       "        text-align: right;\n",
       "    }\n",
       "</style>\n",
       "<table border=\"1\" class=\"dataframe\">\n",
       "  <thead>\n",
       "    <tr style=\"text-align: right;\">\n",
       "      <th></th>\n",
       "      <th>#</th>\n",
       "      <th>Name</th>\n",
       "      <th>Type 1</th>\n",
       "      <th>Type 2</th>\n",
       "      <th>Total</th>\n",
       "      <th>HP</th>\n",
       "      <th>Attack</th>\n",
       "      <th>Defense</th>\n",
       "      <th>Sp. Atk</th>\n",
       "      <th>Sp. Def</th>\n",
       "      <th>Speed</th>\n",
       "      <th>Generation</th>\n",
       "      <th>Legendary</th>\n",
       "    </tr>\n",
       "  </thead>\n",
       "  <tbody>\n",
       "    <tr>\n",
       "      <th>15</th>\n",
       "      <td>11</td>\n",
       "      <td>Metapod</td>\n",
       "      <td>Bug</td>\n",
       "      <td>NaN</td>\n",
       "      <td>205</td>\n",
       "      <td>50</td>\n",
       "      <td>20</td>\n",
       "      <td>55</td>\n",
       "      <td>25</td>\n",
       "      <td>25</td>\n",
       "      <td>30</td>\n",
       "      <td>1</td>\n",
       "      <td>FALSE</td>\n",
       "    </tr>\n",
       "    <tr>\n",
       "      <th>23</th>\n",
       "      <td>17</td>\n",
       "      <td>Pidgeotto</td>\n",
       "      <td>Normal</td>\n",
       "      <td>Flying</td>\n",
       "      <td>349</td>\n",
       "      <td>63</td>\n",
       "      <td>60</td>\n",
       "      <td>55</td>\n",
       "      <td>50</td>\n",
       "      <td>50</td>\n",
       "      <td>71</td>\n",
       "      <td>1</td>\n",
       "      <td>FALSE</td>\n",
       "    </tr>\n",
       "    <tr>\n",
       "      <th>185</th>\n",
       "      <td>168</td>\n",
       "      <td>Ariados</td>\n",
       "      <td>Bug</td>\n",
       "      <td>Poison</td>\n",
       "      <td>390</td>\n",
       "      <td>70</td>\n",
       "      <td>90</td>\n",
       "      <td>70</td>\n",
       "      <td>60</td>\n",
       "      <td>60</td>\n",
       "      <td>40</td>\n",
       "      <td>2</td>\n",
       "      <td>FALSE</td>\n",
       "    </tr>\n",
       "    <tr>\n",
       "      <th>186</th>\n",
       "      <td>168</td>\n",
       "      <td>Ariados</td>\n",
       "      <td>Bug</td>\n",
       "      <td>Poison</td>\n",
       "      <td>390</td>\n",
       "      <td>70</td>\n",
       "      <td>90</td>\n",
       "      <td>70</td>\n",
       "      <td>60</td>\n",
       "      <td>60</td>\n",
       "      <td>40</td>\n",
       "      <td>2</td>\n",
       "      <td>FALSE</td>\n",
       "    </tr>\n",
       "    <tr>\n",
       "      <th>187</th>\n",
       "      <td>168</td>\n",
       "      <td>Ariados</td>\n",
       "      <td>Bug</td>\n",
       "      <td>Poison</td>\n",
       "      <td>390</td>\n",
       "      <td>70</td>\n",
       "      <td>90</td>\n",
       "      <td>70</td>\n",
       "      <td>60</td>\n",
       "      <td>60</td>\n",
       "      <td>40</td>\n",
       "      <td>2</td>\n",
       "      <td>FALSE</td>\n",
       "    </tr>\n",
       "  </tbody>\n",
       "</table>\n",
       "</div>"
      ],
      "text/plain": [
       "       #       Name  Type 1  Type 2 Total  HP Attack Defense Sp. Atk Sp. Def  \\\n",
       "15    11    Metapod     Bug     NaN   205  50     20      55      25      25   \n",
       "23    17  Pidgeotto  Normal  Flying   349  63     60      55      50      50   \n",
       "185  168    Ariados     Bug  Poison   390  70     90      70      60      60   \n",
       "186  168    Ariados     Bug  Poison   390  70     90      70      60      60   \n",
       "187  168    Ariados     Bug  Poison   390  70     90      70      60      60   \n",
       "\n",
       "    Speed Generation Legendary  \n",
       "15     30          1     FALSE  \n",
       "23     71          1     FALSE  \n",
       "185    40          2     FALSE  \n",
       "186    40          2     FALSE  \n",
       "187    40          2     FALSE  "
      ]
     },
     "execution_count": 93,
     "metadata": {},
     "output_type": "execute_result"
    }
   ],
   "source": [
    "df[df.duplicated()]"
   ]
  },
  {
   "cell_type": "code",
   "execution_count": 94,
   "id": "e406b64c",
   "metadata": {},
   "outputs": [],
   "source": [
    "df = df.drop_duplicates()"
   ]
  },
  {
   "cell_type": "code",
   "execution_count": 95,
   "id": "a9a9165d",
   "metadata": {},
   "outputs": [
    {
     "name": "stdout",
     "output_type": "stream",
     "text": [
      "Index(['Total', 'HP', 'Attack', 'Defense', 'Sp. Atk', 'Sp. Def', 'Speed'], dtype='object')\n",
      "Rows with values <= 0 or NaN in numeric stats:\n",
      "       #      Name Type 1  Type 2  Total    HP  Attack  Defense  Sp. Atk  \\\n",
      "17    13    Weedle    Bug  Poison    195   NaN    35.0       30     20.0   \n",
      "349  315   Roselia  Grass  Poison    400  50.0    60.0      -10    100.0   \n",
      "620  554  Darumaka   Fire     NaN    315  70.0    90.0       45     15.0   \n",
      "\n",
      "     Sp. Def  Speed Generation Legendary  \n",
      "17      20.0     50          1     FALSE  \n",
      "349     80.0     65          3     FALSE  \n",
      "620     45.0    -50          5     FALSE  \n"
     ]
    }
   ],
   "source": [
    "# 获取索引 4~10 的列名\n",
    "cols_to_convert = df.columns[4:11]\n",
    "print(cols_to_convert)\n",
    "# 转换为数值，无法转换的设置为 NaN\n",
    "for col in cols_to_convert:\n",
    "    df[col] = pd.to_numeric(df[col], errors=\"coerce\")\n",
    "    \n",
    "# 找出这些列中至少有一个值 <= 0 或为 NaN 的行\n",
    "invalid_rows = df[(df[cols_to_convert] <= 0).any(axis=1) | df[cols_to_convert].isna().any(axis=1)]\n",
    "print(\"Rows with values <= 0 or NaN in numeric stats:\")\n",
    "print(invalid_rows)\n",
    "\n",
    "# 删除这些行\n",
    "df = df.drop(index=invalid_rows.index)"
   ]
  },
  {
   "cell_type": "code",
   "execution_count": 96,
   "id": "1643ae3f",
   "metadata": {},
   "outputs": [
    {
     "data": {
      "text/plain": [
       "<matplotlib.collections.PathCollection at 0x23bc858aa10>"
      ]
     },
     "execution_count": 96,
     "metadata": {},
     "output_type": "execute_result"
    },
    {
     "data": {
      "image/png": "[encoded data removed]",
      "text/plain": [
       "<Figure size 640x480 with 1 Axes>"
      ]
     },
     "metadata": {},
     "output_type": "display_data"
    }
   ],
   "source": [
    "plt.scatter(range(df.shape[0]), df.iloc[:,6])"
   ]
  },
  {
   "cell_type": "code",
   "execution_count": 97,
   "id": "4609f5b6",
   "metadata": {},
   "outputs": [],
   "source": [
    "df = df[df[\"Attack\"] <= 400]"
   ]
  },
  {
   "cell_type": "code",
   "execution_count": 98,
   "id": "86682763",
   "metadata": {},
   "outputs": [
    {
     "data": {
      "text/plain": [
       "<matplotlib.collections.PathCollection at 0x23bc8ab0b90>"
      ]
     },
     "execution_count": 98,
     "metadata": {},
     "output_type": "execute_result"
    },
    {
     "data": {
      "image/png": "[encoded data removed]",
      "text/plain": [
       "<Figure size 640x480 with 1 Axes>"
      ]
     },
     "metadata": {},
     "output_type": "display_data"
    }
   ],
   "source": [
    "plt.scatter(range(df.shape[0]), df.iloc[:,6])"
   ]
  },
  {
   "cell_type": "code",
   "execution_count": 99,
   "id": "10b95c9b",
   "metadata": {},
   "outputs": [
    {
     "name": "stdout",
     "output_type": "stream",
     "text": [
      "Rows where Total does not match sum of stats:\n",
      "       #                   Name   Type 1  Type 2  Total     HP  Attack  \\\n",
      "38    31              Nidoqueen   Poison  Ground    505   90.0    92.0   \n",
      "48    41                  Zubat   Poison  Flying    845   40.0    45.0   \n",
      "62    55                Golduck    Water     NaN    500  120.0    82.0   \n",
      "362  326                Grumpig  Psychic     NaN    470   80.0    45.0   \n",
      "463  412                  Burmy      Bug     NaN    224   40.0    29.0   \n",
      "766  690                 Skrelp   Poison   Water    320   50.0    60.0   \n",
      "768  692              Clauncher    Water     NaN    330   50.1    53.0   \n",
      "786  710  PumpkabooAverage Size    Ghost   Grass    435   49.0    66.0   \n",
      "793  711    GourgeistSuper Size    Ghost   Grass    494  185.0   100.0   \n",
      "795  713                Avalugg      Ice     NaN    714   95.0   117.0   \n",
      "\n",
      "     Defense  Sp. Atk  Sp. Def  Speed Generation Legendary  \n",
      "38        87   750.00    85.00     76          1     FALSE  \n",
      "48        35    30.00    40.00     55          1     FALSE  \n",
      "62        78    95.00    80.00     85          1     FALSE  \n",
      "362       65    90.00   110.11     80          3     FALSE  \n",
      "463      450    29.00    45.00     36          4     FALSE  \n",
      "766       60    60.21    60.00     30          6     FALSE  \n",
      "768       62    58.00    63.00     44          6     FALSE  \n",
      "786       70    44.00    55.00     51          6     FALSE  \n",
      "793      122    58.00    75.00     54          6     FALSE  \n",
      "795      184    44.00    46.00     28          6     FALSE  \n"
     ]
    }
   ],
   "source": [
    "# 需要检查的列\n",
    "cols_stats = ['HP', 'Attack', 'Defense', 'Sp. Atk', 'Sp. Def', 'Speed']\n",
    "\n",
    "# 找出 Total 不等于 6 个基础属性之和的行\n",
    "mismatch_rows = df[df['Total'] != df[cols_stats].sum(axis=1)]\n",
    "print(\"Rows where Total does not match sum of stats:\")\n",
    "print(mismatch_rows)\n",
    "\n",
    "# 删除这些行\n",
    "df = df.drop(index=mismatch_rows.index)"
   ]
  },
  {
   "cell_type": "code",
   "execution_count": 100,
   "id": "3ff5261f",
   "metadata": {},
   "outputs": [
    {
     "data": {
      "text/plain": [
       "Generation\n",
       "5        164\n",
       "3        157\n",
       "1        155\n",
       "4        120\n",
       "2        106\n",
       "6         76\n",
       "FALSE      2\n",
       "Name: count, dtype: int64"
      ]
     },
     "execution_count": 100,
     "metadata": {},
     "output_type": "execute_result"
    }
   ],
   "source": [
    "df[\"Generation\"].value_counts()"
   ]
  },
  {
   "cell_type": "code",
   "execution_count": 101,
   "id": "6c76c724",
   "metadata": {},
   "outputs": [
    {
     "data": {
      "text/plain": [
       "Legendary\n",
       "FALSE     709\n",
       "TRUE       64\n",
       "0           3\n",
       "1           1\n",
       "Poison      1\n",
       "Ground      1\n",
       "Name: count, dtype: int64"
      ]
     },
     "execution_count": 101,
     "metadata": {},
     "output_type": "execute_result"
    }
   ],
   "source": [
    "df[\"Legendary\"].value_counts()"
   ]
  },
  {
   "cell_type": "code",
   "execution_count": 102,
   "id": "a9f4ee8c",
   "metadata": {},
   "outputs": [
    {
     "name": "stdout",
     "output_type": "stream",
     "text": [
      "Swapped rows:\n",
      "     #       Name    Type 1 Type 2  Total    HP  Attack  Defense  Sp. Atk  \\\n",
      "11   9  Blastoise     Water    NaN    530  79.0    83.0      100     85.0   \n",
      "32  25    Pikachu  Electric    NaN    320  35.0    55.0       40     50.0   \n",
      "\n",
      "    Sp. Def  Speed Generation Legendary  \n",
      "11    105.0     78      FALSE         1  \n",
      "32     50.0     90      FALSE         0  \n"
     ]
    }
   ],
   "source": [
    "# 找出置换行：Generation 不在 1~6，且 Legendary 是数字字符串\n",
    "swapped_rows = df[ (~df[\"Generation\"].isin([str(i) for i in range(1,7)])) &\n",
    "                   (df[\"Legendary\"].str.isdigit()) ]\n",
    "\n",
    "print(\"Swapped rows:\")\n",
    "print(swapped_rows)\n",
    "\n",
    "# 交换两列\n",
    "df.loc[swapped_rows.index, [\"Generation\", \"Legendary\"]] = df.loc[swapped_rows.index, [\"Legendary\", \"Generation\"]].values\n"
   ]
  },
  {
   "cell_type": "code",
   "execution_count": 103,
   "id": "334dcf50",
   "metadata": {},
   "outputs": [
    {
     "data": {
      "text/plain": [
       "Generation\n",
       "5    164\n",
       "3    157\n",
       "1    156\n",
       "4    120\n",
       "2    106\n",
       "6     76\n",
       "0      1\n",
       "Name: count, dtype: int64"
      ]
     },
     "execution_count": 103,
     "metadata": {},
     "output_type": "execute_result"
    }
   ],
   "source": [
    "df[\"Generation\"].value_counts()"
   ]
  },
  {
   "cell_type": "code",
   "execution_count": 104,
   "id": "7f9cfdf1",
   "metadata": {},
   "outputs": [
    {
     "data": {
      "text/plain": [
       "Legendary\n",
       "FALSE     711\n",
       "TRUE       64\n",
       "0           2\n",
       "Poison      1\n",
       "Ground      1\n",
       "Name: count, dtype: int64"
      ]
     },
     "execution_count": 104,
     "metadata": {},
     "output_type": "execute_result"
    }
   ],
   "source": [
    "df[\"Legendary\"].value_counts()"
   ]
  },
  {
   "cell_type": "code",
   "execution_count": 105,
   "id": "6ecb52bd",
   "metadata": {},
   "outputs": [
    {
     "name": "stdout",
     "output_type": "stream",
     "text": [
      "Rows with invalid Generation:\n",
      "     #     Name    Type 1 Type 2  Total    HP  Attack  Defense  Sp. Atk  \\\n",
      "32  25  Pikachu  Electric    NaN    320  35.0    55.0       40     50.0   \n",
      "\n",
      "    Sp. Def  Speed Generation Legendary  \n",
      "32     50.0     90          0     FALSE  \n"
     ]
    }
   ],
   "source": [
    "# 找出 Generation 不在 '1'-'6' 的行\n",
    "invalid_gen = df[~df[\"Generation\"].isin([str(i) for i in range(1,7)])]\n",
    "print(\"Rows with invalid Generation:\")\n",
    "print(invalid_gen)\n",
    "\n",
    "# 删除这些行\n",
    "df = df.drop(index=invalid_gen.index)"
   ]
  },
  {
   "cell_type": "code",
   "execution_count": 106,
   "id": "2787df1b",
   "metadata": {},
   "outputs": [
    {
     "name": "stdout",
     "output_type": "stream",
     "text": [
      "Rows with invalid Legendary:\n",
      "       #                 Name   Type 1    Type 2  Total    HP  Attack  \\\n",
      "45    38            Ninetales     Fire       NaN    505  73.0    76.0   \n",
      "78    70           Weepinbell    Grass    Poison    390  65.0    90.0   \n",
      "115  105              Marowak   Ground       NaN    425  60.0    80.0   \n",
      "130  119              Seaking    Water       NaN    450  80.0    92.0   \n",
      "533  475  GalladeMega Gallade  Psychic  Fighting    618  68.0   165.0   \n",
      "\n",
      "     Defense  Sp. Atk  Sp. Def  Speed Generation Legendary  \n",
      "45        75     81.0    100.0    100          1         0  \n",
      "78        50     85.0     45.0     55          1    Poison  \n",
      "115      110     50.0     80.0     45          1    Ground  \n",
      "130       65     65.0     80.0     68          1         0  \n",
      "533       95     65.0    115.0    110          4       NaN  \n"
     ]
    }
   ],
   "source": [
    "# 找出 Legendary 不为 'TRUE' 或 'FALSE' 的行\n",
    "invalid_legendary = df[~df[\"Legendary\"].isin(['TRUE','FALSE'])]\n",
    "print(\"Rows with invalid Legendary:\")\n",
    "print(invalid_legendary)\n",
    "\n",
    "# 删除这些行\n",
    "df = df.drop(index=invalid_legendary.index)"
   ]
  },
  {
   "cell_type": "code",
   "execution_count": 107,
   "id": "1ec0e3e6",
   "metadata": {},
   "outputs": [
    {
     "name": "stdout",
     "output_type": "stream",
     "text": [
      "<class 'pandas.core.frame.DataFrame'>\n",
      "Index: 774 entries, 0 to 805\n",
      "Data columns (total 13 columns):\n",
      " #   Column      Non-Null Count  Dtype  \n",
      "---  ------      --------------  -----  \n",
      " 0   #           774 non-null    object \n",
      " 1   Name        774 non-null    object \n",
      " 2   Type 1      774 non-null    object \n",
      " 3   Type 2      404 non-null    object \n",
      " 4   Total       774 non-null    int64  \n",
      " 5   HP          774 non-null    float64\n",
      " 6   Attack      774 non-null    float64\n",
      " 7   Defense     774 non-null    int64  \n",
      " 8   Sp. Atk     774 non-null    float64\n",
      " 9   Sp. Def     774 non-null    float64\n",
      " 10  Speed       774 non-null    int64  \n",
      " 11  Generation  774 non-null    object \n",
      " 12  Legendary   774 non-null    object \n",
      "dtypes: float64(4), int64(3), object(6)\n",
      "memory usage: 84.7+ KB\n"
     ]
    },
    {
     "data": {
      "text/html": [
       "<div>\n",
       "<style scoped>\n",
       "    .dataframe tbody tr th:only-of-type {\n",
       "        vertical-align: middle;\n",
       "    }\n",
       "\n",
       "    .dataframe tbody tr th {\n",
       "        vertical-align: top;\n",
       "    }\n",
       "\n",
       "    .dataframe thead th {\n",
       "        text-align: right;\n",
       "    }\n",
       "</style>\n",
       "<table border=\"1\" class=\"dataframe\">\n",
       "  <thead>\n",
       "    <tr style=\"text-align: right;\">\n",
       "      <th></th>\n",
       "      <th>#</th>\n",
       "      <th>Name</th>\n",
       "      <th>Type 1</th>\n",
       "      <th>Type 2</th>\n",
       "      <th>Total</th>\n",
       "      <th>HP</th>\n",
       "      <th>Attack</th>\n",
       "      <th>Defense</th>\n",
       "      <th>Sp. Atk</th>\n",
       "      <th>Sp. Def</th>\n",
       "      <th>Speed</th>\n",
       "      <th>Generation</th>\n",
       "      <th>Legendary</th>\n",
       "    </tr>\n",
       "  </thead>\n",
       "  <tbody>\n",
       "    <tr>\n",
       "      <th>count</th>\n",
       "      <td>774</td>\n",
       "      <td>774</td>\n",
       "      <td>774</td>\n",
       "      <td>404</td>\n",
       "      <td>774.000000</td>\n",
       "      <td>774.000000</td>\n",
       "      <td>774.000000</td>\n",
       "      <td>774.000000</td>\n",
       "      <td>774.00000</td>\n",
       "      <td>774.000000</td>\n",
       "      <td>774.000000</td>\n",
       "      <td>774</td>\n",
       "      <td>774</td>\n",
       "    </tr>\n",
       "    <tr>\n",
       "      <th>unique</th>\n",
       "      <td>699</td>\n",
       "      <td>774</td>\n",
       "      <td>18</td>\n",
       "      <td>18</td>\n",
       "      <td>NaN</td>\n",
       "      <td>NaN</td>\n",
       "      <td>NaN</td>\n",
       "      <td>NaN</td>\n",
       "      <td>NaN</td>\n",
       "      <td>NaN</td>\n",
       "      <td>NaN</td>\n",
       "      <td>6</td>\n",
       "      <td>2</td>\n",
       "    </tr>\n",
       "    <tr>\n",
       "      <th>top</th>\n",
       "      <td>479</td>\n",
       "      <td>Bulbasaur</td>\n",
       "      <td>Water</td>\n",
       "      <td>Flying</td>\n",
       "      <td>NaN</td>\n",
       "      <td>NaN</td>\n",
       "      <td>NaN</td>\n",
       "      <td>NaN</td>\n",
       "      <td>NaN</td>\n",
       "      <td>NaN</td>\n",
       "      <td>NaN</td>\n",
       "      <td>5</td>\n",
       "      <td>FALSE</td>\n",
       "    </tr>\n",
       "    <tr>\n",
       "      <th>freq</th>\n",
       "      <td>6</td>\n",
       "      <td>1</td>\n",
       "      <td>107</td>\n",
       "      <td>96</td>\n",
       "      <td>NaN</td>\n",
       "      <td>NaN</td>\n",
       "      <td>NaN</td>\n",
       "      <td>NaN</td>\n",
       "      <td>NaN</td>\n",
       "      <td>NaN</td>\n",
       "      <td>NaN</td>\n",
       "      <td>164</td>\n",
       "      <td>710</td>\n",
       "    </tr>\n",
       "    <tr>\n",
       "      <th>mean</th>\n",
       "      <td>NaN</td>\n",
       "      <td>NaN</td>\n",
       "      <td>NaN</td>\n",
       "      <td>NaN</td>\n",
       "      <td>435.974160</td>\n",
       "      <td>69.483204</td>\n",
       "      <td>79.042636</td>\n",
       "      <td>73.908269</td>\n",
       "      <td>73.21447</td>\n",
       "      <td>71.937984</td>\n",
       "      <td>68.387597</td>\n",
       "      <td>NaN</td>\n",
       "      <td>NaN</td>\n",
       "    </tr>\n",
       "    <tr>\n",
       "      <th>std</th>\n",
       "      <td>NaN</td>\n",
       "      <td>NaN</td>\n",
       "      <td>NaN</td>\n",
       "      <td>NaN</td>\n",
       "      <td>119.608998</td>\n",
       "      <td>25.708619</td>\n",
       "      <td>32.465796</td>\n",
       "      <td>31.145622</td>\n",
       "      <td>32.58295</td>\n",
       "      <td>27.724411</td>\n",
       "      <td>29.188279</td>\n",
       "      <td>NaN</td>\n",
       "      <td>NaN</td>\n",
       "    </tr>\n",
       "    <tr>\n",
       "      <th>min</th>\n",
       "      <td>NaN</td>\n",
       "      <td>NaN</td>\n",
       "      <td>NaN</td>\n",
       "      <td>NaN</td>\n",
       "      <td>180.000000</td>\n",
       "      <td>1.000000</td>\n",
       "      <td>5.000000</td>\n",
       "      <td>5.000000</td>\n",
       "      <td>10.00000</td>\n",
       "      <td>20.000000</td>\n",
       "      <td>5.000000</td>\n",
       "      <td>NaN</td>\n",
       "      <td>NaN</td>\n",
       "    </tr>\n",
       "    <tr>\n",
       "      <th>25%</th>\n",
       "      <td>NaN</td>\n",
       "      <td>NaN</td>\n",
       "      <td>NaN</td>\n",
       "      <td>NaN</td>\n",
       "      <td>330.000000</td>\n",
       "      <td>50.000000</td>\n",
       "      <td>55.000000</td>\n",
       "      <td>50.000000</td>\n",
       "      <td>50.00000</td>\n",
       "      <td>50.000000</td>\n",
       "      <td>45.000000</td>\n",
       "      <td>NaN</td>\n",
       "      <td>NaN</td>\n",
       "    </tr>\n",
       "    <tr>\n",
       "      <th>50%</th>\n",
       "      <td>NaN</td>\n",
       "      <td>NaN</td>\n",
       "      <td>NaN</td>\n",
       "      <td>NaN</td>\n",
       "      <td>450.000000</td>\n",
       "      <td>65.000000</td>\n",
       "      <td>75.000000</td>\n",
       "      <td>70.000000</td>\n",
       "      <td>65.00000</td>\n",
       "      <td>70.000000</td>\n",
       "      <td>65.000000</td>\n",
       "      <td>NaN</td>\n",
       "      <td>NaN</td>\n",
       "    </tr>\n",
       "    <tr>\n",
       "      <th>75%</th>\n",
       "      <td>NaN</td>\n",
       "      <td>NaN</td>\n",
       "      <td>NaN</td>\n",
       "      <td>NaN</td>\n",
       "      <td>515.000000</td>\n",
       "      <td>80.000000</td>\n",
       "      <td>100.000000</td>\n",
       "      <td>90.000000</td>\n",
       "      <td>95.00000</td>\n",
       "      <td>90.000000</td>\n",
       "      <td>90.000000</td>\n",
       "      <td>NaN</td>\n",
       "      <td>NaN</td>\n",
       "    </tr>\n",
       "    <tr>\n",
       "      <th>max</th>\n",
       "      <td>NaN</td>\n",
       "      <td>NaN</td>\n",
       "      <td>NaN</td>\n",
       "      <td>NaN</td>\n",
       "      <td>780.000000</td>\n",
       "      <td>255.000000</td>\n",
       "      <td>190.000000</td>\n",
       "      <td>230.000000</td>\n",
       "      <td>194.00000</td>\n",
       "      <td>230.000000</td>\n",
       "      <td>180.000000</td>\n",
       "      <td>NaN</td>\n",
       "      <td>NaN</td>\n",
       "    </tr>\n",
       "  </tbody>\n",
       "</table>\n",
       "</div>"
      ],
      "text/plain": [
       "          #       Name Type 1  Type 2       Total          HP      Attack  \\\n",
       "count   774        774    774     404  774.000000  774.000000  774.000000   \n",
       "unique  699        774     18      18         NaN         NaN         NaN   \n",
       "top     479  Bulbasaur  Water  Flying         NaN         NaN         NaN   \n",
       "freq      6          1    107      96         NaN         NaN         NaN   \n",
       "mean    NaN        NaN    NaN     NaN  435.974160   69.483204   79.042636   \n",
       "std     NaN        NaN    NaN     NaN  119.608998   25.708619   32.465796   \n",
       "min     NaN        NaN    NaN     NaN  180.000000    1.000000    5.000000   \n",
       "25%     NaN        NaN    NaN     NaN  330.000000   50.000000   55.000000   \n",
       "50%     NaN        NaN    NaN     NaN  450.000000   65.000000   75.000000   \n",
       "75%     NaN        NaN    NaN     NaN  515.000000   80.000000  100.000000   \n",
       "max     NaN        NaN    NaN     NaN  780.000000  255.000000  190.000000   \n",
       "\n",
       "           Defense    Sp. Atk     Sp. Def       Speed Generation Legendary  \n",
       "count   774.000000  774.00000  774.000000  774.000000        774       774  \n",
       "unique         NaN        NaN         NaN         NaN          6         2  \n",
       "top            NaN        NaN         NaN         NaN          5     FALSE  \n",
       "freq           NaN        NaN         NaN         NaN        164       710  \n",
       "mean     73.908269   73.21447   71.937984   68.387597        NaN       NaN  \n",
       "std      31.145622   32.58295   27.724411   29.188279        NaN       NaN  \n",
       "min       5.000000   10.00000   20.000000    5.000000        NaN       NaN  \n",
       "25%      50.000000   50.00000   50.000000   45.000000        NaN       NaN  \n",
       "50%      70.000000   65.00000   70.000000   65.000000        NaN       NaN  \n",
       "75%      90.000000   95.00000   90.000000   90.000000        NaN       NaN  \n",
       "max     230.000000  194.00000  230.000000  180.000000        NaN       NaN  "
      ]
     },
     "execution_count": 107,
     "metadata": {},
     "output_type": "execute_result"
    }
   ],
   "source": [
    "df.info()\n",
    "df.describe(include=\"all\")"
   ]
  }
 ],
 "metadata": {
  "kernelspec": {
   "display_name": "Python 3",
   "language": "python",
   "name": "python3"
  },
  "language_info": {
   "codemirror_mode": {
    "name": "ipython",
    "version": 3
   },
   "file_extension": ".py",
   "mimetype": "text/x-python",
   "name": "python",
   "nbconvert_exporter": "python",
   "pygments_lexer": "ipython3",
   "version": "3.11.5"
  }
 },
 "nbformat": 4,
 "nbformat_minor": 5
}
